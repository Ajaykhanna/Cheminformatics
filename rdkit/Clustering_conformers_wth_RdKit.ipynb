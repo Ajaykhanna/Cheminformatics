{
  "nbformat": 4,
  "nbformat_minor": 0,
  "metadata": {
    "colab": {
      "provenance": []
    },
    "kernelspec": {
      "name": "python3",
      "display_name": "Python 3"
    },
    "language_info": {
      "name": "python"
    }
  },
  "cells": [
    {
      "cell_type": "code",
      "execution_count": 1,
      "metadata": {
        "colab": {
          "base_uri": "https://localhost:8080/"
        },
        "id": "NMaTRukbUzH2",
        "outputId": "7f577a5a-4378-42c9-fc9d-a92146aef613"
      },
      "outputs": [
        {
          "output_type": "stream",
          "name": "stdout",
          "text": [
            "Looking in indexes: https://pypi.org/simple, https://us-python.pkg.dev/colab-wheels/public/simple/\n",
            "Collecting rdkit-pypi\n",
            "  Downloading rdkit_pypi-2022.9.5-cp310-cp310-manylinux_2_17_x86_64.manylinux2014_x86_64.whl (29.4 MB)\n",
            "\u001b[2K     \u001b[90m━━━━━━━━━━━━━━━━━━━━━━━━━━━━━━━━━━━━━━━━\u001b[0m \u001b[32m29.4/29.4 MB\u001b[0m \u001b[31m33.6 MB/s\u001b[0m eta \u001b[36m0:00:00\u001b[0m\n",
            "\u001b[?25hRequirement already satisfied: numpy in /usr/local/lib/python3.10/dist-packages (from rdkit-pypi) (1.22.4)\n",
            "Requirement already satisfied: Pillow in /usr/local/lib/python3.10/dist-packages (from rdkit-pypi) (8.4.0)\n",
            "Installing collected packages: rdkit-pypi\n",
            "Successfully installed rdkit-pypi-2022.9.5\n"
          ]
        }
      ],
      "source": [
        "# If RdKit is not install uncomment the command below to install\n",
        "!pip install rdkit-pypi"
      ]
    },
    {
      "cell_type": "code",
      "source": [
        "# Import Necessary Libraries\n",
        "import rdkit\n",
        "from rdkit import Chem\n",
        "from rdkit.Chem import Draw\n",
        "from rdkit.Chem import rdDistGeom\n",
        "from rdkit.Chem import rdMolAlign\n",
        "from rdkit.Chem.Draw import IPythonConsole\n",
        "print(rdkit.__version__)"
      ],
      "metadata": {
        "colab": {
          "base_uri": "https://localhost:8080/"
        },
        "id": "IND5U2zqVHfo",
        "outputId": "439a8fc3-8803-43d9-dba2-1f7b430a6c43"
      },
      "execution_count": 2,
      "outputs": [
        {
          "output_type": "stream",
          "name": "stdout",
          "text": [
            "2022.09.5\n"
          ]
        }
      ]
    },
    {
      "cell_type": "code",
      "source": [
        "\"\"\"\n",
        "We will use the newer version of Distance Geomentry (DG) module called ETKDG.\n",
        "The conformer generator ETKDG is a stochastic search method that utilizes distance \n",
        "geometry together with knowledge derived from experimental crystal structures.\n",
        "It has been shown to generate good conformers for acyclic, flexible molecules.\n",
        "This work builds on ETKDG to improve conformer generation of molecules containing\n",
        "small or large aliphatic (i.e., non-aromatic) rings.\n",
        "Reference:\n",
        "Improving Conformer Generation for Small Rings and Macrocycles Based on Distance Geometry and Experimental Torsional-Angle Preferences\n",
        "https://pubs.acs.org/doi/10.1021/acs.jcim.0c00025\n",
        "\n",
        "\"\"\""
      ],
      "metadata": {
        "id": "XPus2kV1VZXs"
      },
      "execution_count": null,
      "outputs": []
    },
    {
      "cell_type": "code",
      "source": [
        "# Generating RDKit Molecule From Smiles\n",
        "# We are using \"-Methoxycoumarin-4-acetic Acid N-Succinimidyl Ester\" as an example\n",
        "m_noH = Chem.MolFromSmiles('COC1=CC2=C(C=C1)C(=CC(=O)O2)CC(=O)ON3C(=O)CCC3=O')\n",
        "m_noH"
      ],
      "metadata": {
        "colab": {
          "base_uri": "https://localhost:8080/",
          "height": 167
        },
        "id": "Xgtsn1jIWWaz",
        "outputId": "0fc61055-b5e9-454b-84ea-5e6d5714500c"
      },
      "execution_count": 59,
      "outputs": [
        {
          "output_type": "execute_result",
          "data": {
            "text/plain": [
              "<rdkit.Chem.rdchem.Mol at 0x7ffbb88584a0>"
            ],
            "image/png": "[encoded data removed]"
          },
          "metadata": {},
          "execution_count": 59
        }
      ]
    },
    {
      "cell_type": "code",
      "source": [
        "# Adding Hydrogens to the Molecule for visual purpose only\n",
        "# Later we remove them\n",
        "m_H = Chem.AddHs(m_noH)\n",
        "m_H"
      ],
      "metadata": {
        "colab": {
          "base_uri": "https://localhost:8080/",
          "height": 167
        },
        "id": "mqCKQOp-WpdQ",
        "outputId": "d9c79d48-bfa7-4780-fdf3-6ced0b29a8d0"
      },
      "execution_count": 60,
      "outputs": [
        {
          "output_type": "execute_result",
          "data": {
            "text/plain": [
              "<rdkit.Chem.rdchem.Mol at 0x7ffbdcc24510>"
            ],
            "image/png": "[encoded data removed]"
          },
          "metadata": {},
          "execution_count": 60
        }
      ]
    },
    {
      "cell_type": "code",
      "source": [
        "# Initialize the ETKDG class\n",
        "ps = rdDistGeom.ETKDGv3()\n",
        "ps.randomSeed = 0xd06f00d\n",
        "ps.numThreads = 10\n",
        "cids = rdDistGeom.EmbedMultipleConfs(m_H,300,ps)\n",
        "len(cids)"
      ],
      "metadata": {
        "colab": {
          "base_uri": "https://localhost:8080/"
        },
        "id": "LCq7MIbqWyRe",
        "outputId": "a52cb663-d174-4f03-95cc-f552dc496962"
      },
      "execution_count": 61,
      "outputs": [
        {
          "output_type": "execute_result",
          "data": {
            "text/plain": [
              "300"
            ]
          },
          "metadata": {},
          "execution_count": 61
        }
      ]
    },
    {
      "cell_type": "code",
      "source": [
        "# Lets get rid of the hydrogen, they no longer provide useful information\n",
        "m_3d = Chem.RemoveHs(m_H)"
      ],
      "metadata": {
        "id": "O5PEWBPlXYvS"
      },
      "execution_count": 62,
      "outputs": []
    },
    {
      "cell_type": "code",
      "source": [
        "# Direct vs Best Alignment\n",
        "maxd = -100\n",
        "for j in range(0,5):\n",
        "    for i in range(j,len(cids)):\n",
        "        d1 = rdMolAlign.AlignMol(m_3d,m_3d,prbCid=cids[i],refCid=cids[j])\n",
        "        d2 = rdMolAlign.GetBestRMS(m_3d,m_3d,prbId=cids[i],refId=cids[j])\n",
        "        delt = d1-d2\n",
        "        if delt<-1e-5:\n",
        "            print(f'ooops, {i}, {delt}')\n",
        "        if delt>maxd:\n",
        "            maxd = delt\n",
        "            maxi = i\n",
        "            maxj = j\n",
        "d1 = rdMolAlign.AlignMol(m_3d,m_3d,prbCid=cids[maxi],refCid=cids[maxj])\n",
        "d2 = rdMolAlign.GetBestRMS(m_3d,m_3d,prbId=cids[maxi],refId=cids[maxj])\n",
        "print(maxi,maxd,d1,d2)"
      ],
      "metadata": {
        "colab": {
          "base_uri": "https://localhost:8080/"
        },
        "id": "nx8Tg0xEXwJX",
        "outputId": "9fc172ae-1cb9-4939-abbd-6dc70e606598"
      },
      "execution_count": 63,
      "outputs": [
        {
          "output_type": "stream",
          "name": "stdout",
          "text": [
            "45 1.3894486408458309 1.5715078076848763 0.18205916683900755\n"
          ]
        }
      ]
    },
    {
      "cell_type": "code",
      "source": [
        "#!pip install py3Dmol"
      ],
      "metadata": {
        "colab": {
          "base_uri": "https://localhost:8080/"
        },
        "id": "TaDiTf9BY_1g",
        "outputId": "a59dfb05-39c5-437a-9ae1-0cb3760c8ca2"
      },
      "execution_count": 64,
      "outputs": [
        {
          "output_type": "stream",
          "name": "stdout",
          "text": [
            "Looking in indexes: https://pypi.org/simple, https://us-python.pkg.dev/colab-wheels/public/simple/\n",
            "Requirement already satisfied: py3Dmol in /usr/local/lib/python3.10/dist-packages (2.0.1.post1)\n"
          ]
        }
      ]
    },
    {
      "cell_type": "code",
      "source": [
        "import py3Dmol\n",
        "def drawit(m_noH, cids=[-1], p=None, removeHs=True,\n",
        "           colors=('cyanCarbon','redCarbon','blueCarbon','magentaCarbon','whiteCarbon','purpleCarbon')):\n",
        "        if removeHs:\n",
        "            m = Chem.RemoveHs(m_noH)\n",
        "        if p is None:\n",
        "            p = py3Dmol.view(width=400, height=400)\n",
        "        p.removeAllModels()\n",
        "        for i,cid in enumerate(cids):\n",
        "            IPythonConsole.addMolToView(m_noH,p,confId=cid)\n",
        "        for i,cid in enumerate(cids):\n",
        "            p.setStyle({'model':i,},\n",
        "                            {'stick':{'colorscheme':colors[i%len(colors)]}})\n",
        "        p.zoomTo()\n",
        "        return p.show()"
      ],
      "metadata": {
        "id": "dIhWRAnzYU7s"
      },
      "execution_count": 65,
      "outputs": []
    },
    {
      "cell_type": "code",
      "source": [
        "d1 = rdMolAlign.AlignMol(m_3d,m_3d,prbCid=cids[maxi],refCid=cids[maxj])\n",
        "drawit(m_3d,[cids[maxj],cids[maxi]])"
      ],
      "metadata": {
        "colab": {
          "base_uri": "https://localhost:8080/",
          "height": 417
        },
        "id": "-Z9FHwyaY3jz",
        "outputId": "481877ad-e23f-4741-b68e-1fb1d1ca4765"
      },
      "execution_count": 66,
      "outputs": [
        {
          "output_type": "display_data",
          "data": {
            "application/3dmoljs_load.v0": "<div id=\"3dmolviewer_16831816321408963\"  style=\"position: relative; width: 400px; height: 400px\">\n        <p id=\"3dmolwarning_16831816321408963\" style=\"background-color:#ffcccc;color:black\">You appear to be running in JupyterLab (or JavaScript failed to load for some other reason).  You need to install the 3dmol extension: <br>\n        <tt>jupyter labextension install jupyterlab_3dmol</tt></p>\n        </div>\n<script>\n\nvar loadScriptAsync = function(uri){\n  return new Promise((resolve, reject) => {\n    //this is to ignore the existence of requirejs amd\n    var savedexports, savedmodule;\n    if (typeof exports !== 'undefined') savedexports = exports;\n    else exports = {}\n    if (typeof module !== 'undefined') savedmodule = module;\n    else module = {}\n\n    var tag = document.createElement('script');\n    tag.src = uri;\n    tag.async = true;\n    tag.onload = () => {\n        exports = savedexports;\n        module = savedmodule;\n        resolve();\n    };\n  var firstScriptTag = document.getElementsByTagName('script')[0];\n  firstScriptTag.parentNode.insertBefore(tag, firstScriptTag);\n});\n};\n\nif(typeof $3Dmolpromise === 'undefined') {\n$3Dmolpromise = null;\n  $3Dmolpromise = loadScriptAsync('https://cdnjs.cloudflare.com/ajax/libs/3Dmol/2.0.1/3Dmol-min.js');\n}\n\nvar viewer_16831816321408963 = null;\nvar warn = document.getElementById(\"3dmolwarning_16831816321408963\");\nif(warn) {\n    warn.parentNode.removeChild(warn);\n}\n$3Dmolpromise.then(function() {\nviewer_16831816321408963 = $3Dmol.createViewer(document.getElementById(\"3dmolviewer_16831816321408963\"),{backgroundColor:\"white\"});\nviewer_16831816321408963.zoomTo();\n\tviewer_16831816321408963.removeAllModels();\n\tviewer_16831816321408963.addModel(\"\\n     RDKit          3D\\n\\n 24 26  0  0  0  0  0  0  0  0999 V2000\\n    4.3975    2.2279    2.3335 C   0  0  0  0  0  0  0  0  0  0  0  0\\n    4.3283    1.8549    0.9867 O   0  0  0  0  0  0  0  0  0  0  0  0\\n    3.3410    1.0301    0.4505 C   0  0  0  0  0  0  0  0  0  0  0  0\\n    3.4240    0.7637   -0.9001 C   0  0  0  0  0  0  0  0  0  0  0  0\\n    2.5025   -0.0402   -1.5425 C   0  0  0  0  0  0  0  0  0  0  0  0\\n    1.4815   -0.5752   -0.7749 C   0  0  0  0  0  0  0  0  0  0  0  0\\n    1.4063   -0.3033    0.5754 C   0  0  0  0  0  0  0  0  0  0  0  0\\n    2.3227    0.4995    1.2279 C   0  0  0  0  0  0  0  0  0  0  0  0\\n    0.5470   -1.3861   -1.4083 C   0  0  0  0  0  0  0  0  0  0  0  0\\n    0.6457   -1.6406   -2.7559 C   0  0  0  0  0  0  0  0  0  0  0  0\\n    1.7020   -1.0570   -3.4250 C   0  0  0  0  0  0  0  0  0  0  0  0\\n    1.8128   -1.2802   -4.6772 O   0  0  0  0  0  0  0  0  0  0  0  0\\n    2.5876   -0.2918   -2.8381 O   0  0  0  0  0  0  0  0  0  0  0  0\\n   -0.5440   -1.9670   -0.6158 C   0  0  0  0  0  0  0  0  0  0  0  0\\n   -1.5561   -0.9033   -0.3340 C   0  0  0  0  0  0  0  0  0  0  0  0\\n   -1.3870    0.2807   -0.7686 O   0  0  0  0  0  0  0  0  0  0  0  0\\n   -2.7087   -1.1281    0.3959 O   0  0  0  0  0  0  0  0  0  0  0  0\\n   -3.6203   -0.1142    0.6343 N   0  0  0  0  0  0  0  0  0  0  0  0\\n   -4.7422    0.2628   -0.1520 C   0  0  0  0  0  0  0  0  0  0  0  0\\n   -5.1336   -0.3450   -1.1955 O   0  0  0  0  0  0  0  0  0  0  0  0\\n   -5.3199    1.4663    0.4931 C   0  0  0  0  0  0  0  0  0  0  0  0\\n   -4.9006    1.3090    1.9375 C   0  0  0  0  0  0  0  0  0  0  0  0\\n   -3.5375    0.7384    1.7842 C   0  0  0  0  0  0  0  0  0  0  0  0\\n   -2.4963    0.9121    2.4634 O   0  0  0  0  0  0  0  0  0  0  0  0\\n  1  2  1  0\\n  2  3  1  0\\n  3  4  2  0\\n  4  5  1  0\\n  5  6  2  0\\n  6  7  1  0\\n  7  8  2  0\\n  6  9  1  0\\n  9 10  2  0\\n 10 11  1  0\\n 11 12  2  0\\n 11 13  1  0\\n  9 14  1  0\\n 14 15  1  0\\n 15 16  2  0\\n 15 17  1  0\\n 17 18  1  0\\n 18 19  1  0\\n 19 20  2  0\\n 19 21  1  0\\n 21 22  1  0\\n 22 23  1  0\\n 23 24  2  0\\n  8  3  1  0\\n 13  5  1  0\\n 23 18  1  0\\nM  END\\n\",\"sdf\");\n\tviewer_16831816321408963.setStyle({\"stick\": {}});\n\tviewer_16831816321408963.addModel(\"\\n     RDKit          3D\\n\\n 24 26  0  0  0  0  0  0  0  0999 V2000\\n    4.2330    2.1466    2.4012 C   0  0  0  0  0  0  0  0  0  0  0  0\\n    4.4041    1.8714    1.0239 O   0  0  0  0  0  0  0  0  0  0  0  0\\n    3.4496    1.0633    0.3773 C   0  0  0  0  0  0  0  0  0  0  0  0\\n    3.5598    0.7601   -0.9573 C   0  0  0  0  0  0  0  0  0  0  0  0\\n    2.5896   -0.0429   -1.5479 C   0  0  0  0  0  0  0  0  0  0  0  0\\n    1.5119   -0.5539   -0.8492 C   0  0  0  0  0  0  0  0  0  0  0  0\\n    1.4111   -0.2409    0.4971 C   0  0  0  0  0  0  0  0  0  0  0  0\\n    2.3764    0.5556    1.0762 C   0  0  0  0  0  0  0  0  0  0  0  0\\n    0.5461   -1.3609   -1.4639 C   0  0  0  0  0  0  0  0  0  0  0  0\\n    0.7140   -1.6237   -2.7920 C   0  0  0  0  0  0  0  0  0  0  0  0\\n    1.7990   -1.0967   -3.4516 C   0  0  0  0  0  0  0  0  0  0  0  0\\n    1.9376   -1.3558   -4.6982 O   0  0  0  0  0  0  0  0  0  0  0  0\\n    2.6719   -0.3494   -2.8314 O   0  0  0  0  0  0  0  0  0  0  0  0\\n   -0.5705   -1.8763   -0.6536 C   0  0  0  0  0  0  0  0  0  0  0  0\\n   -1.5900   -0.8553   -0.3513 C   0  0  0  0  0  0  0  0  0  0  0  0\\n   -1.4142    0.3082   -0.8035 O   0  0  0  0  0  0  0  0  0  0  0  0\\n   -2.7241   -1.0867    0.3933 O   0  0  0  0  0  0  0  0  0  0  0  0\\n   -3.6797   -0.1424    0.6785 N   0  0  0  0  0  0  0  0  0  0  0  0\\n   -3.6258    0.6973    1.8189 C   0  0  0  0  0  0  0  0  0  0  0  0\\n   -2.7200    0.6892    2.6841 O   0  0  0  0  0  0  0  0  0  0  0  0\\n   -4.7997    1.5891    1.8403 C   0  0  0  0  0  0  0  0  0  0  0  0\\n   -5.2290    1.5663    0.3772 C   0  0  0  0  0  0  0  0  0  0  0  0\\n   -4.8510    0.1945   -0.0287 C   0  0  0  0  0  0  0  0  0  0  0  0\\n   -5.4472   -0.5431   -0.8448 O   0  0  0  0  0  0  0  0  0  0  0  0\\n  1  2  1  0\\n  2  3  1  0\\n  3  4  2  0\\n  4  5  1  0\\n  5  6  2  0\\n  6  7  1  0\\n  7  8  2  0\\n  6  9  1  0\\n  9 10  2  0\\n 10 11  1  0\\n 11 12  2  0\\n 11 13  1  0\\n  9 14  1  0\\n 14 15  1  0\\n 15 16  2  0\\n 15 17  1  0\\n 17 18  1  0\\n 18 19  1  0\\n 19 20  2  0\\n 19 21  1  0\\n 21 22  1  0\\n 22 23  1  0\\n 23 24  2  0\\n  8  3  1  0\\n 13  5  1  0\\n 23 18  1  0\\nM  END\\n\",\"sdf\");\n\tviewer_16831816321408963.setStyle({\"stick\": {}});\n\tviewer_16831816321408963.setStyle({\"model\": 0},{\"stick\": {\"colorscheme\": \"cyanCarbon\"}});\n\tviewer_16831816321408963.setStyle({\"model\": 1},{\"stick\": {\"colorscheme\": \"redCarbon\"}});\n\tviewer_16831816321408963.zoomTo();\nviewer_16831816321408963.render();\n});\n</script>",
            "text/html": [
              "<div id=\"3dmolviewer_16831816321408963\"  style=\"position: relative; width: 400px; height: 400px\">\n",
              "        <p id=\"3dmolwarning_16831816321408963\" style=\"background-color:#ffcccc;color:black\">You appear to be running in JupyterLab (or JavaScript failed to load for some other reason).  You need to install the 3dmol extension: <br>\n",
              "        <tt>jupyter labextension install jupyterlab_3dmol</tt></p>\n",
              "        </div>\n",
              "<script>\n",
              "\n",
              "var loadScriptAsync = function(uri){\n",
              "  return new Promise((resolve, reject) => {\n",
              "    //this is to ignore the existence of requirejs amd\n",
              "    var savedexports, savedmodule;\n",
              "    if (typeof exports !== 'undefined') savedexports = exports;\n",
              "    else exports = {}\n",
              "    if (typeof module !== 'undefined') savedmodule = module;\n",
              "    else module = {}\n",
              "\n",
              "    var tag = document.createElement('script');\n",
              "    tag.src = uri;\n",
              "    tag.async = true;\n",
              "    tag.onload = () => {\n",
              "        exports = savedexports;\n",
              "        module = savedmodule;\n",
              "        resolve();\n",
              "    };\n",
              "  var firstScriptTag = document.getElementsByTagName('script')[0];\n",
              "  firstScriptTag.parentNode.insertBefore(tag, firstScriptTag);\n",
              "});\n",
              "};\n",
              "\n",
              "if(typeof $3Dmolpromise === 'undefined') {\n",
              "$3Dmolpromise = null;\n",
              "  $3Dmolpromise = loadScriptAsync('https://cdnjs.cloudflare.com/ajax/libs/3Dmol/2.0.1/3Dmol-min.js');\n",
              "}\n",
              "\n",
              "var viewer_16831816321408963 = null;\n",
              "var warn = document.getElementById(\"3dmolwarning_16831816321408963\");\n",
              "if(warn) {\n",
              "    warn.parentNode.removeChild(warn);\n",
              "}\n",
              "$3Dmolpromise.then(function() {\n",
              "viewer_16831816321408963 = $3Dmol.createViewer(document.getElementById(\"3dmolviewer_16831816321408963\"),{backgroundColor:\"white\"});\n",
              "viewer_16831816321408963.zoomTo();\n",
              "\tviewer_16831816321408963.removeAllModels();\n",
              "\tviewer_16831816321408963.addModel(\"\\n     RDKit          3D\\n\\n 24 26  0  0  0  0  0  0  0  0999 V2000\\n    4.3975    2.2279    2.3335 C   0  0  0  0  0  0  0  0  0  0  0  0\\n    4.3283    1.8549    0.9867 O   0  0  0  0  0  0  0  0  0  0  0  0\\n    3.3410    1.0301    0.4505 C   0  0  0  0  0  0  0  0  0  0  0  0\\n    3.4240    0.7637   -0.9001 C   0  0  0  0  0  0  0  0  0  0  0  0\\n    2.5025   -0.0402   -1.5425 C   0  0  0  0  0  0  0  0  0  0  0  0\\n    1.4815   -0.5752   -0.7749 C   0  0  0  0  0  0  0  0  0  0  0  0\\n    1.4063   -0.3033    0.5754 C   0  0  0  0  0  0  0  0  0  0  0  0\\n    2.3227    0.4995    1.2279 C   0  0  0  0  0  0  0  0  0  0  0  0\\n    0.5470   -1.3861   -1.4083 C   0  0  0  0  0  0  0  0  0  0  0  0\\n    0.6457   -1.6406   -2.7559 C   0  0  0  0  0  0  0  0  0  0  0  0\\n    1.7020   -1.0570   -3.4250 C   0  0  0  0  0  0  0  0  0  0  0  0\\n    1.8128   -1.2802   -4.6772 O   0  0  0  0  0  0  0  0  0  0  0  0\\n    2.5876   -0.2918   -2.8381 O   0  0  0  0  0  0  0  0  0  0  0  0\\n   -0.5440   -1.9670   -0.6158 C   0  0  0  0  0  0  0  0  0  0  0  0\\n   -1.5561   -0.9033   -0.3340 C   0  0  0  0  0  0  0  0  0  0  0  0\\n   -1.3870    0.2807   -0.7686 O   0  0  0  0  0  0  0  0  0  0  0  0\\n   -2.7087   -1.1281    0.3959 O   0  0  0  0  0  0  0  0  0  0  0  0\\n   -3.6203   -0.1142    0.6343 N   0  0  0  0  0  0  0  0  0  0  0  0\\n   -4.7422    0.2628   -0.1520 C   0  0  0  0  0  0  0  0  0  0  0  0\\n   -5.1336   -0.3450   -1.1955 O   0  0  0  0  0  0  0  0  0  0  0  0\\n   -5.3199    1.4663    0.4931 C   0  0  0  0  0  0  0  0  0  0  0  0\\n   -4.9006    1.3090    1.9375 C   0  0  0  0  0  0  0  0  0  0  0  0\\n   -3.5375    0.7384    1.7842 C   0  0  0  0  0  0  0  0  0  0  0  0\\n   -2.4963    0.9121    2.4634 O   0  0  0  0  0  0  0  0  0  0  0  0\\n  1  2  1  0\\n  2  3  1  0\\n  3  4  2  0\\n  4  5  1  0\\n  5  6  2  0\\n  6  7  1  0\\n  7  8  2  0\\n  6  9  1  0\\n  9 10  2  0\\n 10 11  1  0\\n 11 12  2  0\\n 11 13  1  0\\n  9 14  1  0\\n 14 15  1  0\\n 15 16  2  0\\n 15 17  1  0\\n 17 18  1  0\\n 18 19  1  0\\n 19 20  2  0\\n 19 21  1  0\\n 21 22  1  0\\n 22 23  1  0\\n 23 24  2  0\\n  8  3  1  0\\n 13  5  1  0\\n 23 18  1  0\\nM  END\\n\",\"sdf\");\n",
              "\tviewer_16831816321408963.setStyle({\"stick\": {}});\n",
              "\tviewer_16831816321408963.addModel(\"\\n     RDKit          3D\\n\\n 24 26  0  0  0  0  0  0  0  0999 V2000\\n    4.2330    2.1466    2.4012 C   0  0  0  0  0  0  0  0  0  0  0  0\\n    4.4041    1.8714    1.0239 O   0  0  0  0  0  0  0  0  0  0  0  0\\n    3.4496    1.0633    0.3773 C   0  0  0  0  0  0  0  0  0  0  0  0\\n    3.5598    0.7601   -0.9573 C   0  0  0  0  0  0  0  0  0  0  0  0\\n    2.5896   -0.0429   -1.5479 C   0  0  0  0  0  0  0  0  0  0  0  0\\n    1.5119   -0.5539   -0.8492 C   0  0  0  0  0  0  0  0  0  0  0  0\\n    1.4111   -0.2409    0.4971 C   0  0  0  0  0  0  0  0  0  0  0  0\\n    2.3764    0.5556    1.0762 C   0  0  0  0  0  0  0  0  0  0  0  0\\n    0.5461   -1.3609   -1.4639 C   0  0  0  0  0  0  0  0  0  0  0  0\\n    0.7140   -1.6237   -2.7920 C   0  0  0  0  0  0  0  0  0  0  0  0\\n    1.7990   -1.0967   -3.4516 C   0  0  0  0  0  0  0  0  0  0  0  0\\n    1.9376   -1.3558   -4.6982 O   0  0  0  0  0  0  0  0  0  0  0  0\\n    2.6719   -0.3494   -2.8314 O   0  0  0  0  0  0  0  0  0  0  0  0\\n   -0.5705   -1.8763   -0.6536 C   0  0  0  0  0  0  0  0  0  0  0  0\\n   -1.5900   -0.8553   -0.3513 C   0  0  0  0  0  0  0  0  0  0  0  0\\n   -1.4142    0.3082   -0.8035 O   0  0  0  0  0  0  0  0  0  0  0  0\\n   -2.7241   -1.0867    0.3933 O   0  0  0  0  0  0  0  0  0  0  0  0\\n   -3.6797   -0.1424    0.6785 N   0  0  0  0  0  0  0  0  0  0  0  0\\n   -3.6258    0.6973    1.8189 C   0  0  0  0  0  0  0  0  0  0  0  0\\n   -2.7200    0.6892    2.6841 O   0  0  0  0  0  0  0  0  0  0  0  0\\n   -4.7997    1.5891    1.8403 C   0  0  0  0  0  0  0  0  0  0  0  0\\n   -5.2290    1.5663    0.3772 C   0  0  0  0  0  0  0  0  0  0  0  0\\n   -4.8510    0.1945   -0.0287 C   0  0  0  0  0  0  0  0  0  0  0  0\\n   -5.4472   -0.5431   -0.8448 O   0  0  0  0  0  0  0  0  0  0  0  0\\n  1  2  1  0\\n  2  3  1  0\\n  3  4  2  0\\n  4  5  1  0\\n  5  6  2  0\\n  6  7  1  0\\n  7  8  2  0\\n  6  9  1  0\\n  9 10  2  0\\n 10 11  1  0\\n 11 12  2  0\\n 11 13  1  0\\n  9 14  1  0\\n 14 15  1  0\\n 15 16  2  0\\n 15 17  1  0\\n 17 18  1  0\\n 18 19  1  0\\n 19 20  2  0\\n 19 21  1  0\\n 21 22  1  0\\n 22 23  1  0\\n 23 24  2  0\\n  8  3  1  0\\n 13  5  1  0\\n 23 18  1  0\\nM  END\\n\",\"sdf\");\n",
              "\tviewer_16831816321408963.setStyle({\"stick\": {}});\n",
              "\tviewer_16831816321408963.setStyle({\"model\": 0},{\"stick\": {\"colorscheme\": \"cyanCarbon\"}});\n",
              "\tviewer_16831816321408963.setStyle({\"model\": 1},{\"stick\": {\"colorscheme\": \"redCarbon\"}});\n",
              "\tviewer_16831816321408963.zoomTo();\n",
              "viewer_16831816321408963.render();\n",
              "});\n",
              "</script>"
            ]
          },
          "metadata": {}
        }
      ]
    },
    {
      "cell_type": "code",
      "source": [
        "d2 = rdMolAlign.GetBestRMS(m_3d,m_3d,prbId=cids[maxi],refId=cids[maxj])\n",
        "drawit(m_3d,[cids[maxj],cids[maxi]])"
      ],
      "metadata": {
        "colab": {
          "base_uri": "https://localhost:8080/",
          "height": 417
        },
        "id": "hYrOD5fHZGLf",
        "outputId": "5d594a89-a84a-4398-9d19-7ff06c678109"
      },
      "execution_count": 67,
      "outputs": [
        {
          "output_type": "display_data",
          "data": {
            "application/3dmoljs_load.v0": "<div id=\"3dmolviewer_1683181643443131\"  style=\"position: relative; width: 400px; height: 400px\">\n        <p id=\"3dmolwarning_1683181643443131\" style=\"background-color:#ffcccc;color:black\">You appear to be running in JupyterLab (or JavaScript failed to load for some other reason).  You need to install the 3dmol extension: <br>\n        <tt>jupyter labextension install jupyterlab_3dmol</tt></p>\n        </div>\n<script>\n\nvar loadScriptAsync = function(uri){\n  return new Promise((resolve, reject) => {\n    //this is to ignore the existence of requirejs amd\n    var savedexports, savedmodule;\n    if (typeof exports !== 'undefined') savedexports = exports;\n    else exports = {}\n    if (typeof module !== 'undefined') savedmodule = module;\n    else module = {}\n\n    var tag = document.createElement('script');\n    tag.src = uri;\n    tag.async = true;\n    tag.onload = () => {\n        exports = savedexports;\n        module = savedmodule;\n        resolve();\n    };\n  var firstScriptTag = document.getElementsByTagName('script')[0];\n  firstScriptTag.parentNode.insertBefore(tag, firstScriptTag);\n});\n};\n\nif(typeof $3Dmolpromise === 'undefined') {\n$3Dmolpromise = null;\n  $3Dmolpromise = loadScriptAsync('https://cdnjs.cloudflare.com/ajax/libs/3Dmol/2.0.1/3Dmol-min.js');\n}\n\nvar viewer_1683181643443131 = null;\nvar warn = document.getElementById(\"3dmolwarning_1683181643443131\");\nif(warn) {\n    warn.parentNode.removeChild(warn);\n}\n$3Dmolpromise.then(function() {\nviewer_1683181643443131 = $3Dmol.createViewer(document.getElementById(\"3dmolviewer_1683181643443131\"),{backgroundColor:\"white\"});\nviewer_1683181643443131.zoomTo();\n\tviewer_1683181643443131.removeAllModels();\n\tviewer_1683181643443131.addModel(\"\\n     RDKit          3D\\n\\n 24 26  0  0  0  0  0  0  0  0999 V2000\\n    4.3975    2.2279    2.3335 C   0  0  0  0  0  0  0  0  0  0  0  0\\n    4.3283    1.8549    0.9867 O   0  0  0  0  0  0  0  0  0  0  0  0\\n    3.3410    1.0301    0.4505 C   0  0  0  0  0  0  0  0  0  0  0  0\\n    3.4240    0.7637   -0.9001 C   0  0  0  0  0  0  0  0  0  0  0  0\\n    2.5025   -0.0402   -1.5425 C   0  0  0  0  0  0  0  0  0  0  0  0\\n    1.4815   -0.5752   -0.7749 C   0  0  0  0  0  0  0  0  0  0  0  0\\n    1.4063   -0.3033    0.5754 C   0  0  0  0  0  0  0  0  0  0  0  0\\n    2.3227    0.4995    1.2279 C   0  0  0  0  0  0  0  0  0  0  0  0\\n    0.5470   -1.3861   -1.4083 C   0  0  0  0  0  0  0  0  0  0  0  0\\n    0.6457   -1.6406   -2.7559 C   0  0  0  0  0  0  0  0  0  0  0  0\\n    1.7020   -1.0570   -3.4250 C   0  0  0  0  0  0  0  0  0  0  0  0\\n    1.8128   -1.2802   -4.6772 O   0  0  0  0  0  0  0  0  0  0  0  0\\n    2.5876   -0.2918   -2.8381 O   0  0  0  0  0  0  0  0  0  0  0  0\\n   -0.5440   -1.9670   -0.6158 C   0  0  0  0  0  0  0  0  0  0  0  0\\n   -1.5561   -0.9033   -0.3340 C   0  0  0  0  0  0  0  0  0  0  0  0\\n   -1.3870    0.2807   -0.7686 O   0  0  0  0  0  0  0  0  0  0  0  0\\n   -2.7087   -1.1281    0.3959 O   0  0  0  0  0  0  0  0  0  0  0  0\\n   -3.6203   -0.1142    0.6343 N   0  0  0  0  0  0  0  0  0  0  0  0\\n   -4.7422    0.2628   -0.1520 C   0  0  0  0  0  0  0  0  0  0  0  0\\n   -5.1336   -0.3450   -1.1955 O   0  0  0  0  0  0  0  0  0  0  0  0\\n   -5.3199    1.4663    0.4931 C   0  0  0  0  0  0  0  0  0  0  0  0\\n   -4.9006    1.3090    1.9375 C   0  0  0  0  0  0  0  0  0  0  0  0\\n   -3.5375    0.7384    1.7842 C   0  0  0  0  0  0  0  0  0  0  0  0\\n   -2.4963    0.9121    2.4634 O   0  0  0  0  0  0  0  0  0  0  0  0\\n  1  2  1  0\\n  2  3  1  0\\n  3  4  2  0\\n  4  5  1  0\\n  5  6  2  0\\n  6  7  1  0\\n  7  8  2  0\\n  6  9  1  0\\n  9 10  2  0\\n 10 11  1  0\\n 11 12  2  0\\n 11 13  1  0\\n  9 14  1  0\\n 14 15  1  0\\n 15 16  2  0\\n 15 17  1  0\\n 17 18  1  0\\n 18 19  1  0\\n 19 20  2  0\\n 19 21  1  0\\n 21 22  1  0\\n 22 23  1  0\\n 23 24  2  0\\n  8  3  1  0\\n 13  5  1  0\\n 23 18  1  0\\nM  END\\n\",\"sdf\");\n\tviewer_1683181643443131.setStyle({\"stick\": {}});\n\tviewer_1683181643443131.addModel(\"\\n     RDKit          3D\\n\\n 24 26  0  0  0  0  0  0  0  0999 V2000\\n    4.2270    2.1326    2.4217 C   0  0  0  0  0  0  0  0  0  0  0  0\\n    4.4016    1.8631    1.0437 O   0  0  0  0  0  0  0  0  0  0  0  0\\n    3.4483    1.0582    0.3913 C   0  0  0  0  0  0  0  0  0  0  0  0\\n    3.5618    0.7604   -0.9443 C   0  0  0  0  0  0  0  0  0  0  0  0\\n    2.5928   -0.0395   -1.5407 C   0  0  0  0  0  0  0  0  0  0  0  0\\n    1.5129   -0.5528   -0.8470 C   0  0  0  0  0  0  0  0  0  0  0  0\\n    1.4087   -0.2453    0.5003 C   0  0  0  0  0  0  0  0  0  0  0  0\\n    2.3730    0.5483    1.0852 C   0  0  0  0  0  0  0  0  0  0  0  0\\n    0.5483   -1.3567   -1.4675 C   0  0  0  0  0  0  0  0  0  0  0  0\\n    0.7195   -1.6141   -2.7962 C   0  0  0  0  0  0  0  0  0  0  0  0\\n    1.8065   -1.0850   -3.4508 C   0  0  0  0  0  0  0  0  0  0  0  0\\n    1.9482   -1.3391   -4.6981 O   0  0  0  0  0  0  0  0  0  0  0  0\\n    2.6783   -0.3409   -2.8252 O   0  0  0  0  0  0  0  0  0  0  0  0\\n   -0.5708   -1.8748   -0.6622 C   0  0  0  0  0  0  0  0  0  0  0  0\\n   -1.5905   -0.8544   -0.3584 C   0  0  0  0  0  0  0  0  0  0  0  0\\n   -1.4128    0.3108   -0.8054 O   0  0  0  0  0  0  0  0  0  0  0  0\\n   -2.7267   -1.0883    0.3822 O   0  0  0  0  0  0  0  0  0  0  0  0\\n   -3.6825   -0.1446    0.6687 N   0  0  0  0  0  0  0  0  0  0  0  0\\n   -3.6311    0.6904    1.8128 C   0  0  0  0  0  0  0  0  0  0  0  0\\n   -2.7275    0.6782    2.6803 O   0  0  0  0  0  0  0  0  0  0  0  0\\n   -4.8045    1.5828    1.8348 C   0  0  0  0  0  0  0  0  0  0  0  0\\n   -5.2299    1.5663    0.3705 C   0  0  0  0  0  0  0  0  0  0  0  0\\n   -4.8517    0.1959   -0.0401 C   0  0  0  0  0  0  0  0  0  0  0  0\\n   -5.4462   -0.5379   -0.8608 O   0  0  0  0  0  0  0  0  0  0  0  0\\n  1  2  1  0\\n  2  3  1  0\\n  3  4  2  0\\n  4  5  1  0\\n  5  6  2  0\\n  6  7  1  0\\n  7  8  2  0\\n  6  9  1  0\\n  9 10  2  0\\n 10 11  1  0\\n 11 12  2  0\\n 11 13  1  0\\n  9 14  1  0\\n 14 15  1  0\\n 15 16  2  0\\n 15 17  1  0\\n 17 18  1  0\\n 18 19  1  0\\n 19 20  2  0\\n 19 21  1  0\\n 21 22  1  0\\n 22 23  1  0\\n 23 24  2  0\\n  8  3  1  0\\n 13  5  1  0\\n 23 18  1  0\\nM  END\\n\",\"sdf\");\n\tviewer_1683181643443131.setStyle({\"stick\": {}});\n\tviewer_1683181643443131.setStyle({\"model\": 0},{\"stick\": {\"colorscheme\": \"cyanCarbon\"}});\n\tviewer_1683181643443131.setStyle({\"model\": 1},{\"stick\": {\"colorscheme\": \"redCarbon\"}});\n\tviewer_1683181643443131.zoomTo();\nviewer_1683181643443131.render();\n});\n</script>",
            "text/html": [
              "<div id=\"3dmolviewer_1683181643443131\"  style=\"position: relative; width: 400px; height: 400px\">\n",
              "        <p id=\"3dmolwarning_1683181643443131\" style=\"background-color:#ffcccc;color:black\">You appear to be running in JupyterLab (or JavaScript failed to load for some other reason).  You need to install the 3dmol extension: <br>\n",
              "        <tt>jupyter labextension install jupyterlab_3dmol</tt></p>\n",
              "        </div>\n",
              "<script>\n",
              "\n",
              "var loadScriptAsync = function(uri){\n",
              "  return new Promise((resolve, reject) => {\n",
              "    //this is to ignore the existence of requirejs amd\n",
              "    var savedexports, savedmodule;\n",
              "    if (typeof exports !== 'undefined') savedexports = exports;\n",
              "    else exports = {}\n",
              "    if (typeof module !== 'undefined') savedmodule = module;\n",
              "    else module = {}\n",
              "\n",
              "    var tag = document.createElement('script');\n",
              "    tag.src = uri;\n",
              "    tag.async = true;\n",
              "    tag.onload = () => {\n",
              "        exports = savedexports;\n",
              "        module = savedmodule;\n",
              "        resolve();\n",
              "    };\n",
              "  var firstScriptTag = document.getElementsByTagName('script')[0];\n",
              "  firstScriptTag.parentNode.insertBefore(tag, firstScriptTag);\n",
              "});\n",
              "};\n",
              "\n",
              "if(typeof $3Dmolpromise === 'undefined') {\n",
              "$3Dmolpromise = null;\n",
              "  $3Dmolpromise = loadScriptAsync('https://cdnjs.cloudflare.com/ajax/libs/3Dmol/2.0.1/3Dmol-min.js');\n",
              "}\n",
              "\n",
              "var viewer_1683181643443131 = null;\n",
              "var warn = document.getElementById(\"3dmolwarning_1683181643443131\");\n",
              "if(warn) {\n",
              "    warn.parentNode.removeChild(warn);\n",
              "}\n",
              "$3Dmolpromise.then(function() {\n",
              "viewer_1683181643443131 = $3Dmol.createViewer(document.getElementById(\"3dmolviewer_1683181643443131\"),{backgroundColor:\"white\"});\n",
              "viewer_1683181643443131.zoomTo();\n",
              "\tviewer_1683181643443131.removeAllModels();\n",
              "\tviewer_1683181643443131.addModel(\"\\n     RDKit          3D\\n\\n 24 26  0  0  0  0  0  0  0  0999 V2000\\n    4.3975    2.2279    2.3335 C   0  0  0  0  0  0  0  0  0  0  0  0\\n    4.3283    1.8549    0.9867 O   0  0  0  0  0  0  0  0  0  0  0  0\\n    3.3410    1.0301    0.4505 C   0  0  0  0  0  0  0  0  0  0  0  0\\n    3.4240    0.7637   -0.9001 C   0  0  0  0  0  0  0  0  0  0  0  0\\n    2.5025   -0.0402   -1.5425 C   0  0  0  0  0  0  0  0  0  0  0  0\\n    1.4815   -0.5752   -0.7749 C   0  0  0  0  0  0  0  0  0  0  0  0\\n    1.4063   -0.3033    0.5754 C   0  0  0  0  0  0  0  0  0  0  0  0\\n    2.3227    0.4995    1.2279 C   0  0  0  0  0  0  0  0  0  0  0  0\\n    0.5470   -1.3861   -1.4083 C   0  0  0  0  0  0  0  0  0  0  0  0\\n    0.6457   -1.6406   -2.7559 C   0  0  0  0  0  0  0  0  0  0  0  0\\n    1.7020   -1.0570   -3.4250 C   0  0  0  0  0  0  0  0  0  0  0  0\\n    1.8128   -1.2802   -4.6772 O   0  0  0  0  0  0  0  0  0  0  0  0\\n    2.5876   -0.2918   -2.8381 O   0  0  0  0  0  0  0  0  0  0  0  0\\n   -0.5440   -1.9670   -0.6158 C   0  0  0  0  0  0  0  0  0  0  0  0\\n   -1.5561   -0.9033   -0.3340 C   0  0  0  0  0  0  0  0  0  0  0  0\\n   -1.3870    0.2807   -0.7686 O   0  0  0  0  0  0  0  0  0  0  0  0\\n   -2.7087   -1.1281    0.3959 O   0  0  0  0  0  0  0  0  0  0  0  0\\n   -3.6203   -0.1142    0.6343 N   0  0  0  0  0  0  0  0  0  0  0  0\\n   -4.7422    0.2628   -0.1520 C   0  0  0  0  0  0  0  0  0  0  0  0\\n   -5.1336   -0.3450   -1.1955 O   0  0  0  0  0  0  0  0  0  0  0  0\\n   -5.3199    1.4663    0.4931 C   0  0  0  0  0  0  0  0  0  0  0  0\\n   -4.9006    1.3090    1.9375 C   0  0  0  0  0  0  0  0  0  0  0  0\\n   -3.5375    0.7384    1.7842 C   0  0  0  0  0  0  0  0  0  0  0  0\\n   -2.4963    0.9121    2.4634 O   0  0  0  0  0  0  0  0  0  0  0  0\\n  1  2  1  0\\n  2  3  1  0\\n  3  4  2  0\\n  4  5  1  0\\n  5  6  2  0\\n  6  7  1  0\\n  7  8  2  0\\n  6  9  1  0\\n  9 10  2  0\\n 10 11  1  0\\n 11 12  2  0\\n 11 13  1  0\\n  9 14  1  0\\n 14 15  1  0\\n 15 16  2  0\\n 15 17  1  0\\n 17 18  1  0\\n 18 19  1  0\\n 19 20  2  0\\n 19 21  1  0\\n 21 22  1  0\\n 22 23  1  0\\n 23 24  2  0\\n  8  3  1  0\\n 13  5  1  0\\n 23 18  1  0\\nM  END\\n\",\"sdf\");\n",
              "\tviewer_1683181643443131.setStyle({\"stick\": {}});\n",
              "\tviewer_1683181643443131.addModel(\"\\n     RDKit          3D\\n\\n 24 26  0  0  0  0  0  0  0  0999 V2000\\n    4.2270    2.1326    2.4217 C   0  0  0  0  0  0  0  0  0  0  0  0\\n    4.4016    1.8631    1.0437 O   0  0  0  0  0  0  0  0  0  0  0  0\\n    3.4483    1.0582    0.3913 C   0  0  0  0  0  0  0  0  0  0  0  0\\n    3.5618    0.7604   -0.9443 C   0  0  0  0  0  0  0  0  0  0  0  0\\n    2.5928   -0.0395   -1.5407 C   0  0  0  0  0  0  0  0  0  0  0  0\\n    1.5129   -0.5528   -0.8470 C   0  0  0  0  0  0  0  0  0  0  0  0\\n    1.4087   -0.2453    0.5003 C   0  0  0  0  0  0  0  0  0  0  0  0\\n    2.3730    0.5483    1.0852 C   0  0  0  0  0  0  0  0  0  0  0  0\\n    0.5483   -1.3567   -1.4675 C   0  0  0  0  0  0  0  0  0  0  0  0\\n    0.7195   -1.6141   -2.7962 C   0  0  0  0  0  0  0  0  0  0  0  0\\n    1.8065   -1.0850   -3.4508 C   0  0  0  0  0  0  0  0  0  0  0  0\\n    1.9482   -1.3391   -4.6981 O   0  0  0  0  0  0  0  0  0  0  0  0\\n    2.6783   -0.3409   -2.8252 O   0  0  0  0  0  0  0  0  0  0  0  0\\n   -0.5708   -1.8748   -0.6622 C   0  0  0  0  0  0  0  0  0  0  0  0\\n   -1.5905   -0.8544   -0.3584 C   0  0  0  0  0  0  0  0  0  0  0  0\\n   -1.4128    0.3108   -0.8054 O   0  0  0  0  0  0  0  0  0  0  0  0\\n   -2.7267   -1.0883    0.3822 O   0  0  0  0  0  0  0  0  0  0  0  0\\n   -3.6825   -0.1446    0.6687 N   0  0  0  0  0  0  0  0  0  0  0  0\\n   -3.6311    0.6904    1.8128 C   0  0  0  0  0  0  0  0  0  0  0  0\\n   -2.7275    0.6782    2.6803 O   0  0  0  0  0  0  0  0  0  0  0  0\\n   -4.8045    1.5828    1.8348 C   0  0  0  0  0  0  0  0  0  0  0  0\\n   -5.2299    1.5663    0.3705 C   0  0  0  0  0  0  0  0  0  0  0  0\\n   -4.8517    0.1959   -0.0401 C   0  0  0  0  0  0  0  0  0  0  0  0\\n   -5.4462   -0.5379   -0.8608 O   0  0  0  0  0  0  0  0  0  0  0  0\\n  1  2  1  0\\n  2  3  1  0\\n  3  4  2  0\\n  4  5  1  0\\n  5  6  2  0\\n  6  7  1  0\\n  7  8  2  0\\n  6  9  1  0\\n  9 10  2  0\\n 10 11  1  0\\n 11 12  2  0\\n 11 13  1  0\\n  9 14  1  0\\n 14 15  1  0\\n 15 16  2  0\\n 15 17  1  0\\n 17 18  1  0\\n 18 19  1  0\\n 19 20  2  0\\n 19 21  1  0\\n 21 22  1  0\\n 22 23  1  0\\n 23 24  2  0\\n  8  3  1  0\\n 13  5  1  0\\n 23 18  1  0\\nM  END\\n\",\"sdf\");\n",
              "\tviewer_1683181643443131.setStyle({\"stick\": {}});\n",
              "\tviewer_1683181643443131.setStyle({\"model\": 0},{\"stick\": {\"colorscheme\": \"cyanCarbon\"}});\n",
              "\tviewer_1683181643443131.setStyle({\"model\": 1},{\"stick\": {\"colorscheme\": \"redCarbon\"}});\n",
              "\tviewer_1683181643443131.zoomTo();\n",
              "viewer_1683181643443131.render();\n",
              "});\n",
              "</script>"
            ]
          },
          "metadata": {}
        }
      ]
    },
    {
      "cell_type": "code",
      "source": [
        "dists = []\n",
        "for i in range(len(cids)):\n",
        "    for j in range(i):\n",
        "        dists.append(rdMolAlign.GetBestRMS(m_3d,m_3d,i,j))"
      ],
      "metadata": {
        "id": "a3hIDeRpZULG"
      },
      "execution_count": 68,
      "outputs": []
    },
    {
      "cell_type": "code",
      "source": [
        "from rdkit.ML.Cluster import Butina\n",
        "clusts = Butina.ClusterData(dists, len(cids), 1.5, isDistData=True, reordering=True)\n",
        "len(clusts)"
      ],
      "metadata": {
        "colab": {
          "base_uri": "https://localhost:8080/"
        },
        "id": "yd8HsE2aZwyf",
        "outputId": "4cfa6b45-a21a-47d1-f0bf-5d4e69d5dcbe"
      },
      "execution_count": 69,
      "outputs": [
        {
          "output_type": "execute_result",
          "data": {
            "text/plain": [
              "2"
            ]
          },
          "metadata": {},
          "execution_count": 69
        }
      ]
    },
    {
      "cell_type": "code",
      "source": [
        "m_noH"
      ],
      "metadata": {
        "colab": {
          "base_uri": "https://localhost:8080/",
          "height": 167
        },
        "id": "P_QdLjaWZz5d",
        "outputId": "3840a9e6-b9f8-4783-ad66-3df8ef59bf9d"
      },
      "execution_count": 70,
      "outputs": [
        {
          "output_type": "execute_result",
          "data": {
            "text/plain": [
              "<rdkit.Chem.rdchem.Mol at 0x7ffbb88584a0>"
            ],
            "image/png": "[encoded data removed]"
          },
          "metadata": {},
          "execution_count": 70
        }
      ]
    },
    {
      "cell_type": "code",
      "source": [
        "core = Chem.MolFromSmiles('C1=CC2=C(C=C1)C(=CC(=O)O2)C')\n",
        "core"
      ],
      "metadata": {
        "colab": {
          "base_uri": "https://localhost:8080/",
          "height": 167
        },
        "id": "m6uXZOrHZ5yA",
        "outputId": "0562ef62-ff5c-4ad7-9b74-ab1c31bf183c"
      },
      "execution_count": 71,
      "outputs": [
        {
          "output_type": "execute_result",
          "data": {
            "text/plain": [
              "<rdkit.Chem.rdchem.Mol at 0x7ffbdcc244a0>"
            ],
            "image/png": "[encoded data removed]"
          },
          "metadata": {},
          "execution_count": 71
        }
      ]
    },
    {
      "cell_type": "code",
      "source": [
        "rdMolAlign.AlignMolConformers(m_3d,atomIds = m_3d.GetSubstructMatch(core))"
      ],
      "metadata": {
        "id": "GsQuEjP_Z9KF"
      },
      "execution_count": 72,
      "outputs": []
    },
    {
      "cell_type": "code",
      "source": [
        "centroids = [x[0] for x in clusts]\n",
        "drawit(m_3d,centroids[:5])"
      ],
      "metadata": {
        "colab": {
          "base_uri": "https://localhost:8080/",
          "height": 417
        },
        "id": "ROBw4j1eaEDq",
        "outputId": "56f15e77-bf74-4b73-9adc-bf2abe935a20"
      },
      "execution_count": 75,
      "outputs": [
        {
          "output_type": "display_data",
          "data": {
            "application/3dmoljs_load.v0": "<div id=\"3dmolviewer_16831817522524939\"  style=\"position: relative; width: 400px; height: 400px\">\n        <p id=\"3dmolwarning_16831817522524939\" style=\"background-color:#ffcccc;color:black\">You appear to be running in JupyterLab (or JavaScript failed to load for some other reason).  You need to install the 3dmol extension: <br>\n        <tt>jupyter labextension install jupyterlab_3dmol</tt></p>\n        </div>\n<script>\n\nvar loadScriptAsync = function(uri){\n  return new Promise((resolve, reject) => {\n    //this is to ignore the existence of requirejs amd\n    var savedexports, savedmodule;\n    if (typeof exports !== 'undefined') savedexports = exports;\n    else exports = {}\n    if (typeof module !== 'undefined') savedmodule = module;\n    else module = {}\n\n    var tag = document.createElement('script');\n    tag.src = uri;\n    tag.async = true;\n    tag.onload = () => {\n        exports = savedexports;\n        module = savedmodule;\n        resolve();\n    };\n  var firstScriptTag = document.getElementsByTagName('script')[0];\n  firstScriptTag.parentNode.insertBefore(tag, firstScriptTag);\n});\n};\n\nif(typeof $3Dmolpromise === 'undefined') {\n$3Dmolpromise = null;\n  $3Dmolpromise = loadScriptAsync('https://cdnjs.cloudflare.com/ajax/libs/3Dmol/2.0.1/3Dmol-min.js');\n}\n\nvar viewer_16831817522524939 = null;\nvar warn = document.getElementById(\"3dmolwarning_16831817522524939\");\nif(warn) {\n    warn.parentNode.removeChild(warn);\n}\n$3Dmolpromise.then(function() {\nviewer_16831817522524939 = $3Dmol.createViewer(document.getElementById(\"3dmolviewer_16831817522524939\"),{backgroundColor:\"white\"});\nviewer_16831817522524939.zoomTo();\n\tviewer_16831817522524939.removeAllModels();\n\tviewer_16831817522524939.addModel(\"\\n     RDKit          3D\\n\\n 24 26  0  0  0  0  0  0  0  0999 V2000\\n    6.6760    0.0623    1.1488 C   0  0  0  0  0  0  0  0  0  0  0  0\\n    6.0321    0.1179   -0.1096 O   0  0  0  0  0  0  0  0  0  0  0  0\\n    4.6414    0.1080   -0.2013 C   0  0  0  0  0  0  0  0  0  0  0  0\\n    3.9670    0.1635   -1.3941 C   0  0  0  0  0  0  0  0  0  0  0  0\\n    2.5796    0.1515   -1.4490 C   0  0  0  0  0  0  0  0  0  0  0  0\\n    1.8438    0.0834   -0.2856 C   0  0  0  0  0  0  0  0  0  0  0  0\\n    2.5275    0.0277    0.8971 C   0  0  0  0  0  0  0  0  0  0  0  0\\n    3.9178    0.0380    0.9758 C   0  0  0  0  0  0  0  0  0  0  0  0\\n    0.4466    0.0618   -0.2990 C   0  0  0  0  0  0  0  0  0  0  0  0\\n   -0.1112    0.1153   -1.5620 C   0  0  0  0  0  0  0  0  0  0  0  0\\n    0.6994    0.1851   -2.6943 C   0  0  0  0  0  0  0  0  0  0  0  0\\n    0.1452    0.2312   -3.8180 O   0  0  0  0  0  0  0  0  0  0  0  0\\n    1.9921    0.2021   -2.6254 O   0  0  0  0  0  0  0  0  0  0  0  0\\n   -0.2718    0.0060    0.9577 C   0  0  0  0  0  0  0  0  0  0  0  0\\n   -1.6239    0.6260    0.9807 C   0  0  0  0  0  0  0  0  0  0  0  0\\n   -2.1103    1.2097    0.0094 O   0  0  0  0  0  0  0  0  0  0  0  0\\n   -2.4020    0.5625    2.1314 O   0  0  0  0  0  0  0  0  0  0  0  0\\n   -3.6421    1.0553    2.3085 N   0  0  0  0  0  0  0  0  0  0  0  0\\n   -4.8493    0.3402    2.0399 C   0  0  0  0  0  0  0  0  0  0  0  0\\n   -4.9847   -0.5785    1.2172 O   0  0  0  0  0  0  0  0  0  0  0  0\\n   -5.9263    0.9053    2.9388 C   0  0  0  0  0  0  0  0  0  0  0  0\\n   -5.3394    2.1714    3.5342 C   0  0  0  0  0  0  0  0  0  0  0  0\\n   -4.0269    2.3334    2.8057 C   0  0  0  0  0  0  0  0  0  0  0  0\\n   -3.4052    3.4139    2.6764 O   0  0  0  0  0  0  0  0  0  0  0  0\\n  1  2  1  0\\n  2  3  1  0\\n  3  4  2  0\\n  4  5  1  0\\n  5  6  2  0\\n  6  7  1  0\\n  7  8  2  0\\n  6  9  1  0\\n  9 10  2  0\\n 10 11  1  0\\n 11 12  2  0\\n 11 13  1  0\\n  9 14  1  0\\n 14 15  1  0\\n 15 16  2  0\\n 15 17  1  0\\n 17 18  1  0\\n 18 19  1  0\\n 19 20  2  0\\n 19 21  1  0\\n 21 22  1  0\\n 22 23  1  0\\n 23 24  2  0\\n  8  3  1  0\\n 13  5  1  0\\n 23 18  1  0\\nM  END\\n\",\"sdf\");\n\tviewer_16831817522524939.setStyle({\"stick\": {}});\n\tviewer_16831817522524939.addModel(\"\\n     RDKit          3D\\n\\n 24 26  0  0  0  0  0  0  0  0999 V2000\\n    6.8022    0.1703   -1.3983 C   0  0  0  0  0  0  0  0  0  0  0  0\\n    6.0519    0.1150   -0.2015 O   0  0  0  0  0  0  0  0  0  0  0  0\\n    4.6556    0.1056   -0.2215 C   0  0  0  0  0  0  0  0  0  0  0  0\\n    3.9574    0.1489   -1.4053 C   0  0  0  0  0  0  0  0  0  0  0  0\\n    2.5712    0.1405   -1.4380 C   0  0  0  0  0  0  0  0  0  0  0  0\\n    1.8707    0.0852   -0.2353 C   0  0  0  0  0  0  0  0  0  0  0  0\\n    2.5592    0.0425    0.9603 C   0  0  0  0  0  0  0  0  0  0  0  0\\n    3.9368    0.0530    0.9548 C   0  0  0  0  0  0  0  0  0  0  0  0\\n    0.5016    0.0810   -0.2819 C   0  0  0  0  0  0  0  0  0  0  0  0\\n   -0.0604    0.1349   -1.5515 C   0  0  0  0  0  0  0  0  0  0  0  0\\n    0.6753    0.1886   -2.7116 C   0  0  0  0  0  0  0  0  0  0  0  0\\n    0.1076    0.2370   -3.8573 O   0  0  0  0  0  0  0  0  0  0  0  0\\n    1.9789    0.1885   -2.6032 O   0  0  0  0  0  0  0  0  0  0  0  0\\n   -0.3765   -0.0322    0.8924 C   0  0  0  0  0  0  0  0  0  0  0  0\\n   -0.5953   -1.4317    1.3611 C   0  0  0  0  0  0  0  0  0  0  0  0\\n    0.3995   -2.0523    1.8050 O   0  0  0  0  0  0  0  0  0  0  0  0\\n   -1.7891   -2.0605    1.3313 O   0  0  0  0  0  0  0  0  0  0  0  0\\n   -2.1012   -3.3148    1.7214 N   0  0  0  0  0  0  0  0  0  0  0  0\\n   -3.4038   -3.9202    1.6521 C   0  0  0  0  0  0  0  0  0  0  0  0\\n   -4.3275   -3.5738    0.8517 O   0  0  0  0  0  0  0  0  0  0  0  0\\n   -3.5529   -5.0084    2.6346 C   0  0  0  0  0  0  0  0  0  0  0  0\\n   -2.1597   -5.2143    3.1471 C   0  0  0  0  0  0  0  0  0  0  0  0\\n   -1.2797   -4.3552    2.2863 C   0  0  0  0  0  0  0  0  0  0  0  0\\n   -0.0554   -4.5347    2.1123 O   0  0  0  0  0  0  0  0  0  0  0  0\\n  1  2  1  0\\n  2  3  1  0\\n  3  4  2  0\\n  4  5  1  0\\n  5  6  2  0\\n  6  7  1  0\\n  7  8  2  0\\n  6  9  1  0\\n  9 10  2  0\\n 10 11  1  0\\n 11 12  2  0\\n 11 13  1  0\\n  9 14  1  0\\n 14 15  1  0\\n 15 16  2  0\\n 15 17  1  0\\n 17 18  1  0\\n 18 19  1  0\\n 19 20  2  0\\n 19 21  1  0\\n 21 22  1  0\\n 22 23  1  0\\n 23 24  2  0\\n  8  3  1  0\\n 13  5  1  0\\n 23 18  1  0\\nM  END\\n\",\"sdf\");\n\tviewer_16831817522524939.setStyle({\"stick\": {}});\n\tviewer_16831817522524939.setStyle({\"model\": 0},{\"stick\": {\"colorscheme\": \"cyanCarbon\"}});\n\tviewer_16831817522524939.setStyle({\"model\": 1},{\"stick\": {\"colorscheme\": \"redCarbon\"}});\n\tviewer_16831817522524939.zoomTo();\nviewer_16831817522524939.render();\n});\n</script>",
            "text/html": [
              "<div id=\"3dmolviewer_16831817522524939\"  style=\"position: relative; width: 400px; height: 400px\">\n",
              "        <p id=\"3dmolwarning_16831817522524939\" style=\"background-color:#ffcccc;color:black\">You appear to be running in JupyterLab (or JavaScript failed to load for some other reason).  You need to install the 3dmol extension: <br>\n",
              "        <tt>jupyter labextension install jupyterlab_3dmol</tt></p>\n",
              "        </div>\n",
              "<script>\n",
              "\n",
              "var loadScriptAsync = function(uri){\n",
              "  return new Promise((resolve, reject) => {\n",
              "    //this is to ignore the existence of requirejs amd\n",
              "    var savedexports, savedmodule;\n",
              "    if (typeof exports !== 'undefined') savedexports = exports;\n",
              "    else exports = {}\n",
              "    if (typeof module !== 'undefined') savedmodule = module;\n",
              "    else module = {}\n",
              "\n",
              "    var tag = document.createElement('script');\n",
              "    tag.src = uri;\n",
              "    tag.async = true;\n",
              "    tag.onload = () => {\n",
              "        exports = savedexports;\n",
              "        module = savedmodule;\n",
              "        resolve();\n",
              "    };\n",
              "  var firstScriptTag = document.getElementsByTagName('script')[0];\n",
              "  firstScriptTag.parentNode.insertBefore(tag, firstScriptTag);\n",
              "});\n",
              "};\n",
              "\n",
              "if(typeof $3Dmolpromise === 'undefined') {\n",
              "$3Dmolpromise = null;\n",
              "  $3Dmolpromise = loadScriptAsync('https://cdnjs.cloudflare.com/ajax/libs/3Dmol/2.0.1/3Dmol-min.js');\n",
              "}\n",
              "\n",
              "var viewer_16831817522524939 = null;\n",
              "var warn = document.getElementById(\"3dmolwarning_16831817522524939\");\n",
              "if(warn) {\n",
              "    warn.parentNode.removeChild(warn);\n",
              "}\n",
              "$3Dmolpromise.then(function() {\n",
              "viewer_16831817522524939 = $3Dmol.createViewer(document.getElementById(\"3dmolviewer_16831817522524939\"),{backgroundColor:\"white\"});\n",
              "viewer_16831817522524939.zoomTo();\n",
              "\tviewer_16831817522524939.removeAllModels();\n",
              "\tviewer_16831817522524939.addModel(\"\\n     RDKit          3D\\n\\n 24 26  0  0  0  0  0  0  0  0999 V2000\\n    6.6760    0.0623    1.1488 C   0  0  0  0  0  0  0  0  0  0  0  0\\n    6.0321    0.1179   -0.1096 O   0  0  0  0  0  0  0  0  0  0  0  0\\n    4.6414    0.1080   -0.2013 C   0  0  0  0  0  0  0  0  0  0  0  0\\n    3.9670    0.1635   -1.3941 C   0  0  0  0  0  0  0  0  0  0  0  0\\n    2.5796    0.1515   -1.4490 C   0  0  0  0  0  0  0  0  0  0  0  0\\n    1.8438    0.0834   -0.2856 C   0  0  0  0  0  0  0  0  0  0  0  0\\n    2.5275    0.0277    0.8971 C   0  0  0  0  0  0  0  0  0  0  0  0\\n    3.9178    0.0380    0.9758 C   0  0  0  0  0  0  0  0  0  0  0  0\\n    0.4466    0.0618   -0.2990 C   0  0  0  0  0  0  0  0  0  0  0  0\\n   -0.1112    0.1153   -1.5620 C   0  0  0  0  0  0  0  0  0  0  0  0\\n    0.6994    0.1851   -2.6943 C   0  0  0  0  0  0  0  0  0  0  0  0\\n    0.1452    0.2312   -3.8180 O   0  0  0  0  0  0  0  0  0  0  0  0\\n    1.9921    0.2021   -2.6254 O   0  0  0  0  0  0  0  0  0  0  0  0\\n   -0.2718    0.0060    0.9577 C   0  0  0  0  0  0  0  0  0  0  0  0\\n   -1.6239    0.6260    0.9807 C   0  0  0  0  0  0  0  0  0  0  0  0\\n   -2.1103    1.2097    0.0094 O   0  0  0  0  0  0  0  0  0  0  0  0\\n   -2.4020    0.5625    2.1314 O   0  0  0  0  0  0  0  0  0  0  0  0\\n   -3.6421    1.0553    2.3085 N   0  0  0  0  0  0  0  0  0  0  0  0\\n   -4.8493    0.3402    2.0399 C   0  0  0  0  0  0  0  0  0  0  0  0\\n   -4.9847   -0.5785    1.2172 O   0  0  0  0  0  0  0  0  0  0  0  0\\n   -5.9263    0.9053    2.9388 C   0  0  0  0  0  0  0  0  0  0  0  0\\n   -5.3394    2.1714    3.5342 C   0  0  0  0  0  0  0  0  0  0  0  0\\n   -4.0269    2.3334    2.8057 C   0  0  0  0  0  0  0  0  0  0  0  0\\n   -3.4052    3.4139    2.6764 O   0  0  0  0  0  0  0  0  0  0  0  0\\n  1  2  1  0\\n  2  3  1  0\\n  3  4  2  0\\n  4  5  1  0\\n  5  6  2  0\\n  6  7  1  0\\n  7  8  2  0\\n  6  9  1  0\\n  9 10  2  0\\n 10 11  1  0\\n 11 12  2  0\\n 11 13  1  0\\n  9 14  1  0\\n 14 15  1  0\\n 15 16  2  0\\n 15 17  1  0\\n 17 18  1  0\\n 18 19  1  0\\n 19 20  2  0\\n 19 21  1  0\\n 21 22  1  0\\n 22 23  1  0\\n 23 24  2  0\\n  8  3  1  0\\n 13  5  1  0\\n 23 18  1  0\\nM  END\\n\",\"sdf\");\n",
              "\tviewer_16831817522524939.setStyle({\"stick\": {}});\n",
              "\tviewer_16831817522524939.addModel(\"\\n     RDKit          3D\\n\\n 24 26  0  0  0  0  0  0  0  0999 V2000\\n    6.8022    0.1703   -1.3983 C   0  0  0  0  0  0  0  0  0  0  0  0\\n    6.0519    0.1150   -0.2015 O   0  0  0  0  0  0  0  0  0  0  0  0\\n    4.6556    0.1056   -0.2215 C   0  0  0  0  0  0  0  0  0  0  0  0\\n    3.9574    0.1489   -1.4053 C   0  0  0  0  0  0  0  0  0  0  0  0\\n    2.5712    0.1405   -1.4380 C   0  0  0  0  0  0  0  0  0  0  0  0\\n    1.8707    0.0852   -0.2353 C   0  0  0  0  0  0  0  0  0  0  0  0\\n    2.5592    0.0425    0.9603 C   0  0  0  0  0  0  0  0  0  0  0  0\\n    3.9368    0.0530    0.9548 C   0  0  0  0  0  0  0  0  0  0  0  0\\n    0.5016    0.0810   -0.2819 C   0  0  0  0  0  0  0  0  0  0  0  0\\n   -0.0604    0.1349   -1.5515 C   0  0  0  0  0  0  0  0  0  0  0  0\\n    0.6753    0.1886   -2.7116 C   0  0  0  0  0  0  0  0  0  0  0  0\\n    0.1076    0.2370   -3.8573 O   0  0  0  0  0  0  0  0  0  0  0  0\\n    1.9789    0.1885   -2.6032 O   0  0  0  0  0  0  0  0  0  0  0  0\\n   -0.3765   -0.0322    0.8924 C   0  0  0  0  0  0  0  0  0  0  0  0\\n   -0.5953   -1.4317    1.3611 C   0  0  0  0  0  0  0  0  0  0  0  0\\n    0.3995   -2.0523    1.8050 O   0  0  0  0  0  0  0  0  0  0  0  0\\n   -1.7891   -2.0605    1.3313 O   0  0  0  0  0  0  0  0  0  0  0  0\\n   -2.1012   -3.3148    1.7214 N   0  0  0  0  0  0  0  0  0  0  0  0\\n   -3.4038   -3.9202    1.6521 C   0  0  0  0  0  0  0  0  0  0  0  0\\n   -4.3275   -3.5738    0.8517 O   0  0  0  0  0  0  0  0  0  0  0  0\\n   -3.5529   -5.0084    2.6346 C   0  0  0  0  0  0  0  0  0  0  0  0\\n   -2.1597   -5.2143    3.1471 C   0  0  0  0  0  0  0  0  0  0  0  0\\n   -1.2797   -4.3552    2.2863 C   0  0  0  0  0  0  0  0  0  0  0  0\\n   -0.0554   -4.5347    2.1123 O   0  0  0  0  0  0  0  0  0  0  0  0\\n  1  2  1  0\\n  2  3  1  0\\n  3  4  2  0\\n  4  5  1  0\\n  5  6  2  0\\n  6  7  1  0\\n  7  8  2  0\\n  6  9  1  0\\n  9 10  2  0\\n 10 11  1  0\\n 11 12  2  0\\n 11 13  1  0\\n  9 14  1  0\\n 14 15  1  0\\n 15 16  2  0\\n 15 17  1  0\\n 17 18  1  0\\n 18 19  1  0\\n 19 20  2  0\\n 19 21  1  0\\n 21 22  1  0\\n 22 23  1  0\\n 23 24  2  0\\n  8  3  1  0\\n 13  5  1  0\\n 23 18  1  0\\nM  END\\n\",\"sdf\");\n",
              "\tviewer_16831817522524939.setStyle({\"stick\": {}});\n",
              "\tviewer_16831817522524939.setStyle({\"model\": 0},{\"stick\": {\"colorscheme\": \"cyanCarbon\"}});\n",
              "\tviewer_16831817522524939.setStyle({\"model\": 1},{\"stick\": {\"colorscheme\": \"redCarbon\"}});\n",
              "\tviewer_16831817522524939.zoomTo();\n",
              "viewer_16831817522524939.render();\n",
              "});\n",
              "</script>"
            ]
          },
          "metadata": {}
        }
      ]
    },
    {
      "cell_type": "code",
      "source": [],
      "metadata": {
        "id": "dxzye-PpaL76"
      },
      "execution_count": null,
      "outputs": []
    }
  ]
}
